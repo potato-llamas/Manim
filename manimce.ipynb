{
  "nbformat": 4,
  "nbformat_minor": 0,
  "metadata": {
    "colab": {
      "name": "manimce.ipynb",
      "provenance": [],
      "collapsed_sections": [],
      "include_colab_link": true
    },
    "kernelspec": {
      "name": "python3",
      "display_name": "Python 3"
    },
    "language_info": {
      "name": "python"
    }
  },
  "cells": [
    {
      "cell_type": "markdown",
      "metadata": {
        "id": "view-in-github",
        "colab_type": "text"
      },
      "source": [
        "<a href=\"https://colab.research.google.com/github/potato-llamas/Manim/blob/main/manimce.ipynb\" target=\"_parent\"><img src=\"https://colab.research.google.com/assets/colab-badge.svg\" alt=\"Open In Colab\"/></a>"
      ]
    },
    {
      "cell_type": "code",
      "metadata": {
        "id": "xpASNsRRVl4L"
      },
      "source": [
        "!sudo apt update\n",
        "!sudo apt install libcairo2-dev ffmpeg texlive texlive-latex-extra texlive-fonts-extra texlive-latex-recommended texlive-science tipa libpango1.0-dev\n",
        "!pip install manim\n",
        "!pip install IPython --upgrade"
      ],
      "execution_count": null,
      "outputs": []
    },
    {
      "cell_type": "code",
      "metadata": {
        "id": "SodQ3KokYUT0"
      },
      "source": [
        "%%manim MathTeXDemo    \n",
        "\n",
        "from manim import *\n",
        "config.media_width = \"100%\"\n",
        "\n",
        "class MathTeXDemo(Scene):\n",
        "    def construct(self):\n",
        "        e = MathTex(\n",
        "            r\"e^x = \",\n",
        "            substrings_to_isolate=\"x\"\n",
        "        )\n",
        "        sum = MathTex(\n",
        "            r\"x^0 + x^1 + \\frac{1}{2} x^2 + \\frac{1}{6} x^3 + \\cdots + \\frac{1}{n!} x^n + \\cdots\",\n",
        "            substrings_to_isolate=\"x\"\n",
        "        )\n",
        "        sigma = MathTex(\n",
        "            r\"\\sum_{n=0}^{\\infty} \\frac{x^n}{n!}\", \n",
        "            #substrings_to_isolate=\"x\"\n",
        "        )\n",
        "        #e.set_color_by_tex(\"x\", '#0FFF00')\n",
        "        #sum.set_color_by_tex(\"x\", '#0FFF00')\n",
        "        #sigma.set_color_by_tex(\"/frac{x^n}{n!}\", YELLOW)\n",
        "\n",
        "        e.set_color_by_gradient(RED, ORANGE)\n",
        "        sum.set_color_by_gradient(YELLOW, GREEN, BLUE, PURPLE)\n",
        "        sigma.set_color_by_gradient(YELLOW, GREEN, BLUE, PURPLE)\n",
        "\n",
        "        VGroup(e, sum).arrange(RIGHT)\n",
        "        self.play(Write(e))\n",
        "        #self.wait(0.25)\n",
        "        self.play(Write(sum), runtime = 0.1)\n",
        "        self.wait()\n",
        "        #self.play(FadeOut(e))\n",
        "        self.play(Transform(sum, sigma), e.animate.shift(RIGHT*3))\n",
        "        #self.play(e.animate.shift(RIGHT*3))\n",
        "        #self.play(FadeIn(e.shift(3*RIGHT)))\n",
        "        self.wait()\n",
        "        "
      ],
      "execution_count": null,
      "outputs": []
    },
    {
      "cell_type": "code",
      "metadata": {
        "id": "RhbzS9cMBcfR"
      },
      "source": [
        "%%manim Balls\n",
        "from manim import *\n",
        "config.media_width = \"100%\"\n",
        "\n",
        "class Balls(Scene):\n",
        "    def construct(self):\n",
        "      \n",
        "      balls = Tex(\"isaac likes men\")\n",
        "      balls.scale(3)\n",
        "      balls.set_color_by_gradient(RED, ORANGE, YELLOW, GREEN, BLUE, PURPLE)\n",
        "      self.play(Write(balls), runtime = 5)\n",
        "      self.wait()"
      ],
      "execution_count": null,
      "outputs": []
    }
  ]
}